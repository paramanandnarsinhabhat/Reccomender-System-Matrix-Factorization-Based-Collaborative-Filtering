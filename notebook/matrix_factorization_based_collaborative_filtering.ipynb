{
 "cells": [
  {
   "cell_type": "code",
   "execution_count": 1,
   "id": "b1a0f03d",
   "metadata": {},
   "outputs": [],
   "source": [
    "import pandas as pd\n",
    "import numpy as np\n",
    "from sklearn.metrics import mean_squared_error\n",
    "from sklearn.metrics.pairwise import cosine_similarity\n",
    "from sklearn.model_selection import train_test_split"
   ]
  },
  {
   "cell_type": "code",
   "execution_count": 2,
   "id": "9b34c368",
   "metadata": {},
   "outputs": [],
   "source": [
    "## 1. Reading Dataset \n",
    "#Reading ratings file:\n",
    "ratings = pd.read_csv('/Users/paramanandbhat/Downloads/MatrixfactorizationBasedCollaborativeFilteringusingSurprise-201024-234535 (1)/ratings.csv')\n",
    "\n",
    "#Reading Movie Info File\n",
    "movie_info = pd.read_csv('/Users/paramanandbhat/Downloads/MatrixfactorizationBasedCollaborativeFilteringusingSurprise-201024-234535 (1)/movie_info.csv')"
   ]
  },
  {
   "cell_type": "code",
   "execution_count": 3,
   "id": "24b49e9c",
   "metadata": {},
   "outputs": [],
   "source": [
    "## 2.  Merging Movie information to ratings dataframe   \n",
    "\n",
    "ratings = ratings.merge(movie_info[['movie id','movie title']], how='left', left_on = 'movie_id', right_on = 'movie id')"
   ]
  },
  {
   "cell_type": "code",
   "execution_count": 4,
   "id": "71b341a7",
   "metadata": {},
   "outputs": [
    {
     "data": {
      "text/html": [
       "<div>\n",
       "<style scoped>\n",
       "    .dataframe tbody tr th:only-of-type {\n",
       "        vertical-align: middle;\n",
       "    }\n",
       "\n",
       "    .dataframe tbody tr th {\n",
       "        vertical-align: top;\n",
       "    }\n",
       "\n",
       "    .dataframe thead th {\n",
       "        text-align: right;\n",
       "    }\n",
       "</style>\n",
       "<table border=\"1\" class=\"dataframe\">\n",
       "  <thead>\n",
       "    <tr style=\"text-align: right;\">\n",
       "      <th></th>\n",
       "      <th>user_id</th>\n",
       "      <th>movie_id</th>\n",
       "      <th>rating</th>\n",
       "      <th>unix_timestamp</th>\n",
       "      <th>movie id</th>\n",
       "      <th>movie title</th>\n",
       "    </tr>\n",
       "  </thead>\n",
       "  <tbody>\n",
       "    <tr>\n",
       "      <th>0</th>\n",
       "      <td>196</td>\n",
       "      <td>242</td>\n",
       "      <td>3</td>\n",
       "      <td>881250949</td>\n",
       "      <td>242</td>\n",
       "      <td>Kolya (1996)</td>\n",
       "    </tr>\n",
       "    <tr>\n",
       "      <th>1</th>\n",
       "      <td>186</td>\n",
       "      <td>302</td>\n",
       "      <td>3</td>\n",
       "      <td>891717742</td>\n",
       "      <td>302</td>\n",
       "      <td>L.A. Confidential (1997)</td>\n",
       "    </tr>\n",
       "    <tr>\n",
       "      <th>2</th>\n",
       "      <td>22</td>\n",
       "      <td>377</td>\n",
       "      <td>1</td>\n",
       "      <td>878887116</td>\n",
       "      <td>377</td>\n",
       "      <td>Heavyweights (1994)</td>\n",
       "    </tr>\n",
       "    <tr>\n",
       "      <th>3</th>\n",
       "      <td>244</td>\n",
       "      <td>51</td>\n",
       "      <td>2</td>\n",
       "      <td>880606923</td>\n",
       "      <td>51</td>\n",
       "      <td>Legends of the Fall (1994)</td>\n",
       "    </tr>\n",
       "    <tr>\n",
       "      <th>4</th>\n",
       "      <td>166</td>\n",
       "      <td>346</td>\n",
       "      <td>1</td>\n",
       "      <td>886397596</td>\n",
       "      <td>346</td>\n",
       "      <td>Jackie Brown (1997)</td>\n",
       "    </tr>\n",
       "  </tbody>\n",
       "</table>\n",
       "</div>"
      ],
      "text/plain": [
       "   user_id  movie_id  rating  unix_timestamp  movie id  \\\n",
       "0      196       242       3       881250949       242   \n",
       "1      186       302       3       891717742       302   \n",
       "2       22       377       1       878887116       377   \n",
       "3      244        51       2       880606923        51   \n",
       "4      166       346       1       886397596       346   \n",
       "\n",
       "                  movie title  \n",
       "0                Kolya (1996)  \n",
       "1    L.A. Confidential (1997)  \n",
       "2         Heavyweights (1994)  \n",
       "3  Legends of the Fall (1994)  \n",
       "4         Jackie Brown (1997)  "
      ]
     },
     "execution_count": 4,
     "metadata": {},
     "output_type": "execute_result"
    }
   ],
   "source": [
    "ratings.head()"
   ]
  },
  {
   "cell_type": "code",
   "execution_count": 5,
   "id": "38cc0fbb",
   "metadata": {},
   "outputs": [],
   "source": [
    "ratings['movie'] = ratings['movie_id'].map(str) + str(': ') + ratings['movie title'].map(str)"
   ]
  },
  {
   "cell_type": "code",
   "execution_count": 6,
   "id": "0f17f23f",
   "metadata": {},
   "outputs": [
    {
     "data": {
      "text/plain": [
       "Index(['user_id', 'movie_id', 'rating', 'unix_timestamp', 'movie id',\n",
       "       'movie title', 'movie'],\n",
       "      dtype='object')"
      ]
     },
     "execution_count": 6,
     "metadata": {},
     "output_type": "execute_result"
    }
   ],
   "source": [
    "ratings.columns"
   ]
  },
  {
   "cell_type": "code",
   "execution_count": 7,
   "id": "c7adb0a4",
   "metadata": {},
   "outputs": [],
   "source": [
    "ratings = ratings.drop(['movie id', 'movie title', 'movie_id','unix_timestamp'], axis = 1)"
   ]
  },
  {
   "cell_type": "code",
   "execution_count": 8,
   "id": "9ebfba34",
   "metadata": {},
   "outputs": [],
   "source": [
    "ratings = ratings[['user_id','movie','rating']]"
   ]
  },
  {
   "cell_type": "code",
   "execution_count": 9,
   "id": "9a321ce0",
   "metadata": {},
   "outputs": [],
   "source": [
    "## 3. Creating Train & Test Data & Setting Evaluation Metric"
   ]
  },
  {
   "cell_type": "code",
   "execution_count": 10,
   "id": "1b7562a3",
   "metadata": {},
   "outputs": [],
   "source": [
    "#Assign X as the original ratings dataframe\n",
    "X = ratings.copy()\n",
    "#Split into training and test datasets\n",
    "X_train, X_test = train_test_split(X, test_size = 0.25, random_state=42)"
   ]
  },
  {
   "cell_type": "code",
   "execution_count": 11,
   "id": "3d32d16e",
   "metadata": {},
   "outputs": [],
   "source": [
    "#Function that computes the root mean squared error (or RMSE)\n",
    "def rmse(y_true, y_pred):\n",
    "    return np.sqrt(mean_squared_error(y_true, y_pred))"
   ]
  },
  {
   "cell_type": "code",
   "execution_count": 12,
   "id": "e3ed0c07",
   "metadata": {},
   "outputs": [],
   "source": [
    "## 4. Importing Surprise & Loading Dataset"
   ]
  },
  {
   "cell_type": "code",
   "execution_count": 13,
   "id": "aee86ba9",
   "metadata": {},
   "outputs": [],
   "source": [
    "#Importing functions to be used in this notebook from Surprise Package\n",
    "from surprise import Dataset, Reader, SVD\n",
    "from surprise.model_selection import GridSearchCV"
   ]
  },
  {
   "cell_type": "code",
   "execution_count": 14,
   "id": "2762e7a2",
   "metadata": {},
   "outputs": [],
   "source": [
    "#Reader object to import ratings from X_train\n",
    "reader = Reader(rating_scale=(1, 5))\n",
    "\n",
    "#Storing Data in surprise format from X_train\n",
    "data = Dataset.load_from_df(X_train[['user_id','movie','rating']], reader)                          "
   ]
  },
  {
   "cell_type": "code",
   "execution_count": 15,
   "id": "ebd26e16",
   "metadata": {},
   "outputs": [],
   "source": [
    " ## 5. Fitting SVD Model with 100 latent factors on train set and checking performance on test set "
   ]
  },
  {
   "cell_type": "code",
   "execution_count": 16,
   "id": "4f1e2fda",
   "metadata": {},
   "outputs": [],
   "source": [
    "# Train a new SVD with 100 latent features (number was chosen arbitrarily)\n",
    "model = SVD(n_factors=100)\n"
   ]
  },
  {
   "cell_type": "code",
   "execution_count": 17,
   "id": "c8c53a9f",
   "metadata": {},
   "outputs": [
    {
     "data": {
      "text/plain": [
       "<surprise.prediction_algorithms.matrix_factorization.SVD at 0x15dd44190>"
      ]
     },
     "execution_count": 17,
     "metadata": {},
     "output_type": "execute_result"
    }
   ],
   "source": [
    "#Build full trainset will essentially fits the knnwithmeans on the complete train set instead of a part of it\n",
    "#like we do in cross validation\n",
    "model.fit(data.build_full_trainset())"
   ]
  },
  {
   "cell_type": "code",
   "execution_count": 18,
   "id": "47a9590d",
   "metadata": {},
   "outputs": [
    {
     "data": {
      "text/plain": [
       "0.9391769808176333"
      ]
     },
     "execution_count": 18,
     "metadata": {},
     "output_type": "execute_result"
    }
   ],
   "source": [
    "#id pairs for test set\n",
    "id_pairs = zip(X_test['user_id'], X_test['movie'])\n",
    "\n",
    "#Making predictions for test set using predict method from Surprise\n",
    "y_pred = [model.predict(uid = user, iid = movie)[3] for (user, movie) in id_pairs]\n",
    "\n",
    "#Actual rating values for test set\n",
    "y_true = X_test['rating']\n",
    "\n",
    "# Checking performance on test set\n",
    "rmse(y_true, y_pred)"
   ]
  },
  {
   "cell_type": "code",
   "execution_count": 19,
   "id": "7847ba78",
   "metadata": {},
   "outputs": [],
   "source": [
    "## 6. Examining the user and item matrices"
   ]
  },
  {
   "cell_type": "code",
   "execution_count": 20,
   "id": "1d05583f",
   "metadata": {},
   "outputs": [
    {
     "data": {
      "text/plain": [
       "(1642, 943)"
      ]
     },
     "execution_count": 20,
     "metadata": {},
     "output_type": "execute_result"
    }
   ],
   "source": [
    "#Number of movies & users in train data\n",
    "X_train.movie.nunique(), X_train.user_id.nunique()"
   ]
  },
  {
   "cell_type": "code",
   "execution_count": 21,
   "id": "83cfa312",
   "metadata": {},
   "outputs": [
    {
     "data": {
      "text/plain": [
       "((1642, 100), (943, 100), 1642, 943)"
      ]
     },
     "execution_count": 21,
     "metadata": {},
     "output_type": "execute_result"
    }
   ],
   "source": [
    "# 1642*100 (movie matrix)  943*100 (user matrix) # 1642*943 (user movie matrix)\n",
    "model.qi.shape, model.pu.shape,X_train.movie.nunique(), X_train.user_id.nunique() "
   ]
  },
  {
   "cell_type": "code",
   "execution_count": 22,
   "id": "5151b6c6",
   "metadata": {},
   "outputs": [
    {
     "data": {
      "text/plain": [
       "83.30541214642672"
      ]
     },
     "execution_count": 22,
     "metadata": {},
     "output_type": "execute_result"
    }
   ],
   "source": [
    "#Percentage reduction in size wrt user item matrix\n",
    "(1642*943 - 943*100 - 1642*100)/(1642*943)*100"
   ]
  },
  {
   "cell_type": "code",
   "execution_count": 27,
   "id": "6a2a542b",
   "metadata": {},
   "outputs": [
    {
     "data": {
      "text/plain": [
       "array([-1.48373825e-01,  7.59731191e-02, -3.63499073e-01,  1.86555928e-02,\n",
       "        7.98321191e-02,  5.20103611e-02, -2.09626165e-01, -2.33814055e-01,\n",
       "        1.11392323e-01,  1.67545664e-01,  5.51212068e-03,  3.30618514e-02,\n",
       "       -1.44643475e-01,  1.03356788e-02,  1.28104661e-01, -1.52466854e-01,\n",
       "       -6.92946998e-02,  5.26345963e-02, -8.81273866e-03, -4.28778615e-02,\n",
       "       -2.64935495e-03,  3.46368158e-02,  1.19759381e-02, -7.60803946e-02,\n",
       "       -1.11553784e-01,  1.47819589e-01,  6.42637914e-02, -3.78179309e-04,\n",
       "       -1.00504392e-01,  8.25475928e-02,  1.47536665e-01,  6.96938131e-02,\n",
       "       -4.78103976e-02,  1.81470307e-01,  2.32642355e-01,  3.35017106e-02,\n",
       "        2.87273888e-01,  1.86843430e-01, -1.04564964e-01,  1.46762743e-01,\n",
       "        1.16835686e-01,  6.22268587e-02,  2.16527234e-01,  3.64468933e-02,\n",
       "        1.54183595e-02,  1.61228342e-01,  1.20047647e-01, -2.30187770e-01,\n",
       "        6.35602517e-02,  3.39724297e-01, -1.88966206e-02,  8.50078835e-03,\n",
       "        3.26026936e-02,  4.74287893e-01, -3.15728392e-01,  1.13734902e-01,\n",
       "        2.39539455e-03, -1.67528202e-01, -3.85751181e-01, -2.09457987e-01,\n",
       "        1.67410727e-01,  1.19441097e-01, -2.43841804e-01, -2.55486043e-01,\n",
       "       -9.21544768e-02, -2.62214478e-01, -5.70190398e-02,  1.38438265e-01,\n",
       "       -1.44967313e-01,  6.93368771e-02,  1.26951847e-01, -4.17512963e-02,\n",
       "        8.04302465e-02, -4.37959807e-02,  1.68439439e-02, -2.65496055e-02,\n",
       "       -8.59795965e-02,  2.96151793e-01, -1.80098016e-01, -7.23118068e-02,\n",
       "        1.18671788e-01,  2.20730224e-01,  9.61241909e-02, -3.16723055e-02,\n",
       "        1.19428304e-02, -1.16803317e-01,  7.39431189e-02,  1.05062279e-01,\n",
       "       -1.17741897e-02,  4.22226271e-03, -5.53408886e-02,  1.31888388e-01,\n",
       "       -2.17532555e-01,  4.18053112e-02, -9.60694805e-02,  2.44469020e-01,\n",
       "        3.85301519e-01,  1.96251227e-02,  1.19208964e-01,  8.78682038e-02])"
      ]
     },
     "execution_count": 27,
     "metadata": {},
     "output_type": "execute_result"
    }
   ],
   "source": [
    "#Extracting id for Toy story within qi matrix\n",
    "movie_row_idx = model.trainset._raw2inner_id_items['1: Toy Story (1995)']\n",
    "np.array(model.qi[movie_row_idx])"
   ]
  },
  {
   "cell_type": "code",
   "execution_count": 24,
   "id": "044af34e",
   "metadata": {},
   "outputs": [],
   "source": [
    "#Latent factors learnt from Funk SVD\n",
    "ts_vector = np.array(model.qi[movie_row_idx])"
   ]
  },
  {
   "cell_type": "code",
   "execution_count": 25,
   "id": "05a558aa",
   "metadata": {},
   "outputs": [],
   "source": [
    "#Extracting id for Wizard of Oz within qi matrix\n",
    "movie_row_idx = model.trainset._raw2inner_id_items['132: Wizard of Oz, The (1939)']\n",
    "woz_vector = np.array(model.qi[movie_row_idx])"
   ]
  },
  {
   "cell_type": "code",
   "execution_count": 26,
   "id": "12521a0c",
   "metadata": {},
   "outputs": [
    {
     "data": {
      "text/plain": [
       "0.05625509865856204"
      ]
     },
     "execution_count": 26,
     "metadata": {},
     "output_type": "execute_result"
    }
   ],
   "source": [
    "#Checking the similarity in latent factors for wizard of oz & Toy Story\n",
    "from scipy import spatial\n",
    "1 - spatial.distance.cosine(ts_vector,woz_vector)"
   ]
  },
  {
   "cell_type": "code",
   "execution_count": 28,
   "id": "075a5546",
   "metadata": {},
   "outputs": [],
   "source": [
    "## 7. Grid Search for better performance with SVD"
   ]
  },
  {
   "cell_type": "code",
   "execution_count": 29,
   "id": "08f3450c",
   "metadata": {},
   "outputs": [
    {
     "name": "stdout",
     "output_type": "stream",
     "text": [
      "0.9441258312059828\n",
      "{'n_factors': 11, 'n_epochs': 20, 'random_state': 42}\n"
     ]
    }
   ],
   "source": [
    "#Defining the parameter grid for SVD and fixing the random state\n",
    "param_grid = {'n_factors':list(range(1,50,5)), 'n_epochs': [5, 10, 20], 'random_state': [42]}\n",
    "\n",
    "#Defining the grid search with the parameter grid and SVD algorithm optimizing for RMSE\n",
    "gs = GridSearchCV(SVD, \n",
    "                  param_grid, \n",
    "                  measures=['rmse'], \n",
    "                  cv=5, \n",
    "                  n_jobs = -1)\n",
    "\n",
    "#Fitting the mo\n",
    "gs.fit(data)\n",
    " \n",
    "#Printing the best score\n",
    "print(gs.best_score['rmse'])\n",
    "\n",
    "#Printing the best set of parameters\n",
    "print(gs.best_params['rmse'])"
   ]
  },
  {
   "cell_type": "code",
   "execution_count": 30,
   "id": "6a916409",
   "metadata": {},
   "outputs": [
    {
     "data": {
      "text/plain": [
       "<surprise.prediction_algorithms.matrix_factorization.SVD at 0x168e808d0>"
      ]
     },
     "execution_count": 30,
     "metadata": {},
     "output_type": "execute_result"
    }
   ],
   "source": [
    "#Fitting the model on train data with the best parameters\n",
    "model = SVD(n_factors = 11, n_epochs = 20, random_state = 42)\n",
    "\n",
    "#Build full trainset will essentially fits the SVD on the complete train set instead of a part of it\n",
    "#like we do in cross validation for grid search\n",
    "model.fit(data.build_full_trainset())"
   ]
  },
  {
   "cell_type": "code",
   "execution_count": 31,
   "id": "2b0ee63e",
   "metadata": {},
   "outputs": [
    {
     "data": {
      "text/plain": [
       "0.9390125163978547"
      ]
     },
     "execution_count": 31,
     "metadata": {},
     "output_type": "execute_result"
    }
   ],
   "source": [
    "# aid pairs for test set\n",
    "id_pairs = zip(X_test['user_id'], X_test['movie'])\n",
    "\n",
    "#Making predictions for test set using predict method from Surprise\n",
    "y_pred = [model.predict(uid = user, iid = movie)[3] for (user, movie) in id_pairs]\n",
    "\n",
    "#Actual rating values for test set\n",
    "y_true = X_test['rating']\n",
    "\n",
    "# Checking performance on test set\n",
    "rmse(y_true, y_pred)"
   ]
  },
  {
   "cell_type": "code",
   "execution_count": null,
   "id": "b50adea5",
   "metadata": {},
   "outputs": [],
   "source": []
  }
 ],
 "metadata": {
  "kernelspec": {
   "display_name": "Python 3 (ipykernel)",
   "language": "python",
   "name": "python3"
  },
  "language_info": {
   "codemirror_mode": {
    "name": "ipython",
    "version": 3
   },
   "file_extension": ".py",
   "mimetype": "text/x-python",
   "name": "python",
   "nbconvert_exporter": "python",
   "pygments_lexer": "ipython3",
   "version": "3.11.4"
  }
 },
 "nbformat": 4,
 "nbformat_minor": 5
}
